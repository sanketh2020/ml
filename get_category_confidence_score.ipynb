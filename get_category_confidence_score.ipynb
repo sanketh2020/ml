{
 "cells": [
  {
   "cell_type": "code",
   "execution_count": null,
   "metadata": {},
   "outputs": [],
   "source": [
    "# Required Python Packages\n",
    "import pandas as pd\n",
    "from sklearn.model_selection import train_test_split\n",
    "from sklearn.ensemble import RandomForestClassifier\n",
    "from sklearn.metrics import accuracy_score,precision_score, recall_score, f1_score, classification_report\n",
    "from sklearn.metrics import confusion_matrix\n",
    "from sklearn import svm\n",
    "from sklearn.naive_bayes import GaussianNB\n",
    "from sklearn import linear_model\n",
    "from sklearn.linear_model import LogisticRegression\n",
    "from sklearn.feature_extraction.text import TfidfVectorizer\n",
    "from sklearn import preprocessing\n",
    "import numpy as np\n",
    "from matplotlib import pyplot as plt\n",
    "from sklearn.model_selection import KFold\n",
    "from sklearn.cross_validation import cross_val_score, cross_val_predict\n",
    "from sklearn import metrics\n",
    "from nltk.stem.snowball import SnowballStemmer\n",
    "from nltk.tokenize import sent_tokenize, word_tokenize\n",
    "import re\n",
    "from pandas import ExcelWriter\n",
    "from sklearn.metrics import accuracy_score,precision_score, recall_score, average_precision_score, precision_recall_curve\n"
   ]
  },
  {
   "cell_type": "code",
   "execution_count": null,
   "metadata": {
    "scrolled": true
   },
   "outputs": [],
   "source": [
    "train_dataset = pd.read_excel('sample_input.xlsx',sheet_name='Simplified v1 Data')\n",
    "\n",
    "le = preprocessing.LabelEncoder()\n",
    "tvec = TfidfVectorizer(min_df=1, stop_words='english', max_features=2000)\n",
    "X = tvec.fit_transform(train_dataset['Feedback Details'])\n",
    "train_dataset['Category'] = train_dataset['Category'].str.lower()\n",
    "print(len(train_dataset.index))\n",
    "#Get records which are having blank null values for Sentiment column.\n",
    "blank_values_feedback_cat = train_dataset[train_dataset['Category'].isnull()]\n",
    "#Get records which are having non null values for Sentiment column.\n",
    "train_dataset = train_dataset[train_dataset['Category'].notnull()]\n",
    "print(len(train_dataset.index))\n",
    "le.fit(train_dataset['Category'])\n",
    "ps = SnowballStemmer('english')\n"
   ]
  },
  {
   "cell_type": "code",
   "execution_count": null,
   "metadata": {},
   "outputs": [],
   "source": [
    "def perform_stem(x):\n",
    "    sent=\"\"\n",
    "    sentence_list=\"\"\n",
    "    words = word_tokenize(x)\n",
    "    for w in words:\n",
    "        sent = sent+\" \"+ps.stem(w)\n",
    "    sentence_list = sentence_list+sent\n",
    "    return sentence_list"
   ]
  },
  {
   "cell_type": "code",
   "execution_count": null,
   "metadata": {},
   "outputs": [],
   "source": [
    "train_dataset['Feedback Details'].apply(lambda x : perform_stem(x))"
   ]
  },
  {
   "cell_type": "code",
   "execution_count": null,
   "metadata": {},
   "outputs": [],
   "source": [
    "test_dataset = pd.read_excel('test_dataset.xlsx',sheet_name='test_dataset')"
   ]
  },
  {
   "cell_type": "code",
   "execution_count": null,
   "metadata": {},
   "outputs": [],
   "source": [
    "test_dataset['Category'] = test_dataset['Category'].str.lower()"
   ]
  },
  {
   "cell_type": "code",
   "execution_count": null,
   "metadata": {},
   "outputs": [],
   "source": [
    "train_x=tvec.transform(train_dataset['Feedback Details'])\n",
    "test_x=tvec.transform(test_dataset['Feedback Details'])"
   ]
  },
  {
   "cell_type": "code",
   "execution_count": null,
   "metadata": {},
   "outputs": [],
   "source": [
    "train_y=le.transform(train_dataset['Category'])"
   ]
  },
  {
   "cell_type": "code",
   "execution_count": null,
   "metadata": {},
   "outputs": [],
   "source": [
    "model = RandomForestClassifier(n_estimators=500,n_jobs=-1)\n",
    "trained_model = model.fit(train_x, train_y)\n",
    "predictions = trained_model.predict(test_x)"
   ]
  },
  {
   "cell_type": "code",
   "execution_count": null,
   "metadata": {},
   "outputs": [],
   "source": [
    "predictions"
   ]
  },
  {
   "cell_type": "code",
   "execution_count": null,
   "metadata": {},
   "outputs": [],
   "source": [
    "test_dataset.reset_index(inplace=True,drop=True)"
   ]
  },
  {
   "cell_type": "code",
   "execution_count": null,
   "metadata": {},
   "outputs": [],
   "source": [
    "inv_predictions=le.inverse_transform(predictions)\n",
    "pp=pd.Series(inv_predictions)"
   ]
  },
  {
   "cell_type": "code",
   "execution_count": null,
   "metadata": {},
   "outputs": [],
   "source": [
    "test_dataset['Predicted_Category']=pp"
   ]
  },
  {
   "cell_type": "code",
   "execution_count": null,
   "metadata": {},
   "outputs": [],
   "source": [
    "test_dataset"
   ]
  },
  {
   "cell_type": "code",
   "execution_count": null,
   "metadata": {},
   "outputs": [],
   "source": [
    "exel_writer=ExcelWriter('output/test_dataset_category.xlsx')\n",
    "ex = test_dataset.to_excel(excel_writer=exel_writer, index=False)\n",
    "exel_writer.save()\n"
   ]
  },
  {
   "cell_type": "code",
   "execution_count": null,
   "metadata": {},
   "outputs": [],
   "source": [
    "arr =  le.classes_\n",
    "lst = arr.tolist()\n",
    "list2 = ['PS_'+x for x in lst]\n",
    "print(list2)"
   ]
  },
  {
   "cell_type": "code",
   "execution_count": null,
   "metadata": {},
   "outputs": [],
   "source": [
    "def compare(x):\n",
    "    if x['Predicted_Category'] == x['Category']:\n",
    "        return True\n",
    "    elif x['Category'] == 'null':\n",
    "        return 'Not Applicable'\n",
    "    else:\n",
    "        return False"
   ]
  },
  {
   "cell_type": "code",
   "execution_count": null,
   "metadata": {},
   "outputs": [],
   "source": [
    "test_dataset['Match'] = test_dataset.apply(compare, axis=1)"
   ]
  },
  {
   "cell_type": "code",
   "execution_count": null,
   "metadata": {},
   "outputs": [],
   "source": [
    "probs = pd.DataFrame(model.predict_proba(test_x),columns=list2)\n",
    "dd = pd.concat([test_dataset,probs], axis=1)\n",
    "# print (\"all probabilities:\\n\", probs, \"\\n\")"
   ]
  },
  {
   "cell_type": "code",
   "execution_count": null,
   "metadata": {},
   "outputs": [],
   "source": [
    "dd.to_excel(\"test_dataset_confidence_score_category.xlsx\", index=False)"
   ]
  },
  {
   "cell_type": "code",
   "execution_count": null,
   "metadata": {},
   "outputs": [],
   "source": []
  }
 ],
 "metadata": {
  "kernelspec": {
   "display_name": "Python 3",
   "language": "python",
   "name": "python3"
  },
  "language_info": {
   "codemirror_mode": {
    "name": "ipython",
    "version": 3
   },
   "file_extension": ".py",
   "mimetype": "text/x-python",
   "name": "python",
   "nbconvert_exporter": "python",
   "pygments_lexer": "ipython3",
   "version": "3.6.3"
  }
 },
 "nbformat": 4,
 "nbformat_minor": 2
}
